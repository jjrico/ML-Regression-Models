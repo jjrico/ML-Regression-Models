{
 "cells": [
  {
   "cell_type": "markdown",
   "metadata": {},
   "source": [
    "# CPSC 483 Intro to Machine Learning Project 1\n",
    "### By: Jeremy Rico\n",
    "\n",
    "Dataset: male400.csv - data collected from Olympic trials of mens 400m dash times from the years 1896 - 2008\n",
    "\n",
    "In this program we will approach the dataset with a few different machine learning approaches to extrapolate the data. We will use a few different type of regression as seen below and determine which method best fits the data.\n",
    "1. Linear\n",
    "2. 3rd order polynomial\n",
    "3. 5th order polynomial\n",
    "\n",
    "We will then ad L2 regularization to the code to fit a 5th order polynomial and do some experimenting with hyperparameters (particularly the learning rate) to see which model best fits the data.\n",
    "    "
   ]
  },
  {
   "cell_type": "code",
   "execution_count": 1,
   "metadata": {},
   "outputs": [],
   "source": [
    "import matplotlib.pyplot as plt\n",
    "import numpy as np\n",
    "import csv"
   ]
  },
  {
   "cell_type": "markdown",
   "metadata": {},
   "source": [
    "### Average Squared Loss function\n",
    "Works according to the following equation:\n",
    "$$\\frac{1}{N}\\displaystyle\\sum_{n=1}^{N} (t_n - y_n)^2$$\n",
    "Where $t_n$ is the target value and $y_n$ is the predicted value obtained using the appropriate regression function: $$ y_n = f(x; w_0, w_1, ... w_n) $$"
   ]
  },
  {
   "cell_type": "code",
   "execution_count": 2,
   "metadata": {},
   "outputs": [],
   "source": [
    "# simple function to calculate average squared loss between two arrays; target and predicted\n",
    "def avgSqrdLoss(targets, predictions):\n",
    "    loss = targets - predictions\n",
    "    return np.multiply(loss, loss).mean()"
   ]
  },
  {
   "cell_type": "markdown",
   "metadata": {},
   "source": [
    "Read in data from .csv file and store in np arrays"
   ]
  },
  {
   "cell_type": "code",
   "execution_count": 3,
   "metadata": {},
   "outputs": [],
   "source": [
    "data = np.genfromtxt('male400.csv', delimiter = ',', skip_header=1)\n",
    "years = data[:, 0]\n",
    "times = data[:, 1]"
   ]
  },
  {
   "cell_type": "markdown",
   "metadata": {},
   "source": [
    "## 1. Load the data from male400.csv and create a scatter plot similar to Figure 1.1 in the textbook. Does the relationship appear to be linear?"
   ]
  },
  {
   "cell_type": "code",
   "execution_count": 4,
   "metadata": {},
   "outputs": [
    {
     "data": {
      "text/plain": [
       "Text(0.5, 1.0, 'Olympic Mens 400m Times')"
      ]
     },
     "execution_count": 4,
     "metadata": {},
     "output_type": "execute_result"
    },
    {
     "data": {
      "image/png": "[encoded data removed]",
      "text/plain": [
       "<Figure size 432x288 with 1 Axes>"
      ]
     },
     "metadata": {
      "needs_background": "light"
     },
     "output_type": "display_data"
    }
   ],
   "source": [
    "plt.plot(years, times, 'r.', label='Raw')\n",
    "plt.xlabel('Year')\n",
    "plt.ylabel('Time (s)')\n",
    "plt.title('Olympic Mens 400m Times')\n"
   ]
  },
  {
   "cell_type": "markdown",
   "metadata": {},
   "source": [
    "A: The data does not appear to be linear. It appears to be more of an exponential curve that will eventually level out. From the data below it appears that the curve will approach 40s in the years to come."
   ]
  },
  {
   "cell_type": "markdown",
   "metadata": {},
   "source": [
    "## 2. Use linear regression to fit a line to the data. Add the line to the scatterplot as in Figure 1.5 in the textbook. Compute the loss for the linear model."
   ]
  },
  {
   "cell_type": "markdown",
   "metadata": {},
   "source": [
    "### Linear Regression Model\n",
    "Linear model calculated using the following method:"
   ]
  },
  {
   "cell_type": "markdown",
   "metadata": {},
   "source": [
    "$$y = \\hat{w_{0}}+ \\hat{w_{1}}*x$$"
   ]
  },
  {
   "cell_type": "markdown",
   "metadata": {},
   "source": [
    "$$\\hat{w_{0}} = \\bar{t} - \\hat{w_{1}} * \\bar{x}$$"
   ]
  },
  {
   "cell_type": "markdown",
   "metadata": {},
   "source": [
    "$$\\hat{w_{1}} = \\frac{\\bar{xt} - (\\bar{x} * \\bar{t})} {\\bar{x^2} - \\bar{x}^2}$$"
   ]
  },
  {
   "cell_type": "markdown",
   "metadata": {},
   "source": [
    "In this case, our target value (t) is the recorded times, and the independent varibale (x) is the year so:"
   ]
  },
  {
   "cell_type": "code",
   "execution_count": 5,
   "metadata": {},
   "outputs": [],
   "source": [
    "# calculate relevant variables\n",
    "x_bar = years.mean()\n",
    "t_bar = times.mean()\n",
    "x_bar_2 = x_bar**2\n",
    "x_2_bar = np.multiply(years, years).mean()\n",
    "xt_bar = np.multiply(years,times).mean()\n",
    "\n",
    "w1_hat = (xt_bar - (x_bar * t_bar)) / (x_2_bar - x_bar_2) \n",
    "w0_hat = t_bar - (w1_hat * x_bar)\n",
    "\n",
    "# plug in values to linear regression model\n",
    "y_linregress = w1_hat * years + w0_hat"
   ]
  },
  {
   "cell_type": "code",
   "execution_count": 27,
   "metadata": {},
   "outputs": [
    {
     "data": {
      "text/plain": [
       "<matplotlib.legend.Legend at 0x7f7f39e23bd0>"
      ]
     },
     "execution_count": 27,
     "metadata": {},
     "output_type": "execute_result"
    },
    {
     "data": {
      "image/png": "[encoded data removed]",
      "text/plain": [
       "<Figure size 432x288 with 1 Axes>"
      ]
     },
     "metadata": {
      "needs_background": "light"
     },
     "output_type": "display_data"
    }
   ],
   "source": [
    "# Plot linear regression model with raw scatter plot\n",
    "plt.plot(years, times, 'r.', label='Raw')\n",
    "plt.plot(years, y_linregress, 'b-', label='Linear')\n",
    "plt.xlabel('Year')\n",
    "plt.ylabel('Time (s)')\n",
    "plt.title('Olympic Mens 400m Times')\n",
    "plt.legend()"
   ]
  },
  {
   "cell_type": "markdown",
   "metadata": {},
   "source": [
    "### Calculate loss for linear model"
   ]
  },
  {
   "cell_type": "code",
   "execution_count": 28,
   "metadata": {},
   "outputs": [
    {
     "name": "stdout",
     "output_type": "stream",
     "text": [
      "Linear Model Loss:  1.5780331724469312\n"
     ]
    }
   ],
   "source": [
    "linLoss = avgSqrdLoss(times, y_linregress)\n",
    "print(\"Linear Model Loss: \", linLoss)"
   ]
  },
  {
   "cell_type": "markdown",
   "metadata": {},
   "source": [
    "### Review:\n",
    "\n",
    "According to the plot and error calculation, it doesn't look like the linear model fits the data all that well. While we don't have any otehr models to compare it too, an error rate over 1.0 can certainly be improved upon.\n",
    "\n",
    "Furthermore, at a linear rate, our model predicts that eventually a human will be able to complete the 400m dash in 0 or even negative time. We all know this is not possible (except for The Flash), so lets fit some different models to our data."
   ]
  },
  {
   "cell_type": "markdown",
   "metadata": {},
   "source": [
    "## 3. Fit a 3rd order polynomial to the data. Compare the loss for this model with the loss for the linear model.\n"
   ]
  },
  {
   "cell_type": "markdown",
   "metadata": {},
   "source": [
    "### 3rd Order Polynomial\n",
    "\n",
    "Simply use numpy method polyfit to get an array of exponents for a nth degree polynomial. Then call poly1d to return a model that we can plug in our original data to return new y values."
   ]
  },
  {
   "cell_type": "code",
   "execution_count": 29,
   "metadata": {},
   "outputs": [],
   "source": [
    "poly3 = np.poly1d(np.polyfit(years, times, 3))"
   ]
  },
  {
   "cell_type": "code",
   "execution_count": 30,
   "metadata": {},
   "outputs": [
    {
     "data": {
      "text/plain": [
       "<matplotlib.legend.Legend at 0x7f7f3a12d410>"
      ]
     },
     "execution_count": 30,
     "metadata": {},
     "output_type": "execute_result"
    },
    {
     "data": {
      "image/png": "[encoded data removed]",
      "text/plain": [
       "<Figure size 432x288 with 1 Axes>"
      ]
     },
     "metadata": {
      "needs_background": "light"
     },
     "output_type": "display_data"
    }
   ],
   "source": [
    "# Plot linear regression model with raw scatter plot\n",
    "plt.plot(years, times, 'r.', label='Raw')\n",
    "plt.plot(years, y_linregress, label='Linear')\n",
    "plt.plot(years, poly3(years), label=\"3rd Order\")\n",
    "plt.xlabel('Year')\n",
    "plt.ylabel('Time (s)')\n",
    "plt.title('Olympic Mens 400m Times')\n",
    "plt.legend()"
   ]
  },
  {
   "cell_type": "code",
   "execution_count": 31,
   "metadata": {},
   "outputs": [
    {
     "name": "stdout",
     "output_type": "stream",
     "text": [
      "3rd Order Polynomial Loss:  0.9738943980005751\n"
     ]
    }
   ],
   "source": [
    "poly3Loss = avgSqrdLoss(times, poly3(years))\n",
    "print(\"3rd Order Polynomial Loss: \", poly3Loss)"
   ]
  },
  {
   "cell_type": "markdown",
   "metadata": {},
   "source": [
    "### Review:\n",
    "\n",
    "Now this looks much better! The third order polynomial accounts for the curve in the data and decreases our error by around 38.3% from the linear model. \n",
    "\n",
    "This model is a vast improvement from the linear one, but perhaps it could still be improved. So lets try again with a higher degree polynomial."
   ]
  },
  {
   "cell_type": "markdown",
   "metadata": {},
   "source": [
    "## 4. Fit a 5th order polynomial to the data. Compare its loss to the previous two models."
   ]
  },
  {
   "cell_type": "markdown",
   "metadata": {},
   "source": [
    "### Fifth Order Polynomial\n",
    "\n",
    "Same method as used above for the third order polynomial"
   ]
  },
  {
   "cell_type": "code",
   "execution_count": 32,
   "metadata": {},
   "outputs": [],
   "source": [
    "poly5 = np.poly1d(np.polyfit(years, times, 5))"
   ]
  },
  {
   "cell_type": "markdown",
   "metadata": {},
   "source": [
    "## 5. Plot the 3rd and 5th order polynomials on a scatter plot of the data. Which polynomial looks like a better model of the data?"
   ]
  },
  {
   "cell_type": "code",
   "execution_count": 33,
   "metadata": {},
   "outputs": [
    {
     "data": {
      "text/plain": [
       "<matplotlib.legend.Legend at 0x7f7f39a80050>"
      ]
     },
     "execution_count": 33,
     "metadata": {},
     "output_type": "execute_result"
    },
    {
     "data": {
      "image/png": "[encoded data removed]",
      "text/plain": [
       "<Figure size 432x288 with 1 Axes>"
      ]
     },
     "metadata": {
      "needs_background": "light"
     },
     "output_type": "display_data"
    }
   ],
   "source": [
    "# Plot linear regression model with raw scatter plot\n",
    "plt.plot(years, times, 'r.', label='Raw')\n",
    "plt.plot(years, y_linregress, label='Linear')\n",
    "plt.plot(years, poly3(years), label=\"3rd Order\")\n",
    "plt.plot(years, poly5(years), label=\"5th Order\")\n",
    "plt.xlabel('Year')\n",
    "plt.ylabel('Time (s)')\n",
    "plt.title('Olympic Mens 400m Times')\n",
    "plt.legend()"
   ]
  },
  {
   "cell_type": "code",
   "execution_count": 22,
   "metadata": {},
   "outputs": [
    {
     "name": "stdout",
     "output_type": "stream",
     "text": [
      "5th Order Polynomial Loss:  0.9232230464092152\n"
     ]
    }
   ],
   "source": [
    "poly5Loss = avgSqrdLoss(times, poly5(years))\n",
    "print(\"5th Order Polynomial Loss: \", poly5Loss)"
   ]
  },
  {
   "cell_type": "markdown",
   "metadata": {},
   "source": [
    "### Review:\n",
    "\n",
    "This model may not be the vast improvement that we saw from the linear to the third degree polynomial model, but it is still an improvement. The fifth order polynomial fits the data slightly better than the third order polynomial. While it may not be obvious from looking at the graph, we can judge the improvement based on the error rate derease from 0.974 to 0.923; a 5.24% improvement.\n",
    "\n",
    "So even though the improvement is small, the fifth order polynomial undoubtably fits the data more accuratley than the third order polynomial"
   ]
  },
  {
   "cell_type": "markdown",
   "metadata": {},
   "source": [
    "## 6. Add L2 regularization to the code, then fit a 5th order polynomial. Plot models for λ = 0.01, 0.1, 1, 10, and 100. Which value of λ seems to fit the data the best?"
   ]
  },
  {
   "cell_type": "code",
   "execution_count": null,
   "metadata": {},
   "outputs": [],
   "source": []
  }
 ],
 "metadata": {
  "kernelspec": {
   "display_name": "Python 3",
   "language": "python",
   "name": "python3"
  },
  "language_info": {
   "codemirror_mode": {
    "name": "ipython",
    "version": 3
   },
   "file_extension": ".py",
   "mimetype": "text/x-python",
   "name": "python",
   "nbconvert_exporter": "python",
   "pygments_lexer": "ipython3",
   "version": "3.7.6"
  }
 },
 "nbformat": 4,
 "nbformat_minor": 4
}
