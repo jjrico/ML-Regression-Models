{
 "cells": [
  {
   "cell_type": "markdown",
   "metadata": {},
   "source": [
    "# CPSC 483 Intro to Machine Learning Project 1\n",
    "### By: Jeremy Rico\n",
    "\n",
    "Dataset: male400.csv - data collected from Olympic trials of mens 400m dash times from the years 1896 - 2008\n",
    "\n",
    "In this program we will approach the dataset with a few different machine learning approaches to extrapolate the data. We will use a few different type of regression as seen below and determine which method best fits the data.\n",
    "1. Linear\n",
    "2. 3rd order polynomial\n",
    "3. 5th order polynomial\n",
    "\n",
    "We will then ad L2 regularization to the code to fit a 5th order polynomial and do some experimenting with hyperparameters (particularly the learning rate) to see which model best fits the data.\n",
    "    "
   ]
  },
  {
   "cell_type": "code",
   "execution_count": 3,
   "metadata": {},
   "outputs": [],
   "source": [
    "import matplotlib.pyplot as plt\n",
    "import numpy as np\n",
    "import csv"
   ]
  },
  {
   "cell_type": "markdown",
   "metadata": {},
   "source": [
    "### Average Squared Loss function\n",
    "Works according to the following equation:\n",
    "$$\\frac{1}{N}\\displaystyle\\sum_{n=1}^{N} (t_n - y_n)^2$$\n",
    "Where $t_n$ is the target value and $y_n$ is the predicted value obtained using the appropriate regression function: $$ y_n = f(x; w_0, w_1, ... w_n) $$"
   ]
  },
  {
   "cell_type": "code",
   "execution_count": 13,
   "metadata": {},
   "outputs": [],
   "source": [
    "# simple function to calculate average squared loss between two arrays; target and predicted\n",
    "def avgSqrdLoss(targets, predictions):\n",
    "    loss = targets - predictions\n",
    "    return np.multiply(loss, loss).mean()"
   ]
  },
  {
   "cell_type": "markdown",
   "metadata": {},
   "source": [
    "Read in data from .csv file and store in np arrays"
   ]
  },
  {
   "cell_type": "code",
   "execution_count": 4,
   "metadata": {},
   "outputs": [],
   "source": [
    "data = np.genfromtxt('male400.csv', delimiter = ',', skip_header=1)\n",
    "years = data[:, 0]\n",
    "times = data[:, 1]"
   ]
  },
  {
   "cell_type": "markdown",
   "metadata": {},
   "source": [
    "## 1. Load the data from male400.csv and create a scatter plot similar to Figure 1.1 in the textbook. Does the relationship appear to be linear?"
   ]
  },
  {
   "cell_type": "code",
   "execution_count": 5,
   "metadata": {},
   "outputs": [
    {
     "data": {
      "text/plain": [
       "Text(0.5, 1.0, 'Olympic Mens 400m Times')"
      ]
     },
     "execution_count": 5,
     "metadata": {},
     "output_type": "execute_result"
    },
    {
     "data": {
      "image/png": "[encoded data removed]",
      "text/plain": [
       "<Figure size 432x288 with 1 Axes>"
      ]
     },
     "metadata": {
      "needs_background": "light"
     },
     "output_type": "display_data"
    }
   ],
   "source": [
    "plt.plot(years, times, 'r.', label='Raw')\n",
    "plt.xlabel('Year')\n",
    "plt.ylabel('Time (s)')\n",
    "plt.title('Olympic Mens 400m Times')\n"
   ]
  },
  {
   "cell_type": "markdown",
   "metadata": {},
   "source": [
    "A: The data does not appear to be linear. It appears to be more of an exponential curve that will eventually level out. From the data below it appears that the curve will approach 40s in the years to come."
   ]
  },
  {
   "cell_type": "markdown",
   "metadata": {},
   "source": [
    "## 2. Use linear regression to fit a line to the data. Add the line to the scatterplot as in Figure 1.5 in the textbook. Compute the loss for the linear model."
   ]
  },
  {
   "cell_type": "markdown",
   "metadata": {},
   "source": [
    "## Linear Regression Model\n",
    "Linear model calculated using the following method:"
   ]
  },
  {
   "cell_type": "markdown",
   "metadata": {},
   "source": [
    "$$y = \\hat{w_{0}}+ \\hat{w_{1}}*x$$"
   ]
  },
  {
   "cell_type": "markdown",
   "metadata": {},
   "source": [
    "$$\\hat{w_{0}} = \\bar{t} - \\hat{w_{1}} * \\bar{x}$$"
   ]
  },
  {
   "cell_type": "markdown",
   "metadata": {},
   "source": [
    "$$\\hat{w_{1}} = \\frac{\\bar{xt} - (\\bar{x} * \\bar{t})} {\\bar{x^2} - \\bar{x}^2}$$"
   ]
  },
  {
   "cell_type": "markdown",
   "metadata": {},
   "source": [
    "In this case, our target value (t) is the recorded times, and the independent varibale (x) is the year so:"
   ]
  },
  {
   "cell_type": "code",
   "execution_count": 8,
   "metadata": {},
   "outputs": [],
   "source": [
    "# calculate relevant variables\n",
    "x_bar = years.mean()\n",
    "t_bar = times.mean()\n",
    "x_bar_2 = x_bar**2\n",
    "x_2_bar = np.multiply(years, years).mean()\n",
    "xt_bar = np.multiply(years,times).mean()\n",
    "\n",
    "w1_hat = (xt_bar - (x_bar * t_bar)) / (x_2_bar - x_bar_2) \n",
    "w0_hat = t_bar - (w1_hat * x_bar)\n",
    "\n",
    "# plug in values to linear regression model\n",
    "y_linregress = w1_hat * years + w0_hat"
   ]
  },
  {
   "cell_type": "code",
   "execution_count": 9,
   "metadata": {},
   "outputs": [
    {
     "data": {
      "text/plain": [
       "<matplotlib.legend.Legend at 0x7f714448df50>"
      ]
     },
     "execution_count": 9,
     "metadata": {},
     "output_type": "execute_result"
    },
    {
     "data": {
      "image/png": "[encoded data removed]",
      "text/plain": [
       "<Figure size 432x288 with 1 Axes>"
      ]
     },
     "metadata": {
      "needs_background": "light"
     },
     "output_type": "display_data"
    }
   ],
   "source": [
    "# Plot linear regression model with raw scatter plot\n",
    "plt.plot(years, times, 'r.', label='Raw')\n",
    "plt.plot(years, y_linregress, 'b-', label='linear')\n",
    "plt.xlabel('Year')\n",
    "plt.ylabel('Time (s)')\n",
    "plt.title('Olympic Mens 400m Times')\n",
    "plt.legend()"
   ]
  },
  {
   "cell_type": "markdown",
   "metadata": {},
   "source": [
    "### Calculate loss for linear model"
   ]
  },
  {
   "cell_type": "code",
   "execution_count": 18,
   "metadata": {},
   "outputs": [
    {
     "name": "stdout",
     "output_type": "stream",
     "text": [
      "1.5780331724469312\n"
     ]
    }
   ],
   "source": [
    "linLoss = avgSqrdLoss(times, y_linregress)\n",
    "print(linLoss)"
   ]
  },
  {
   "cell_type": "code",
   "execution_count": null,
   "metadata": {},
   "outputs": [],
   "source": []
  }
 ],
 "metadata": {
  "kernelspec": {
   "display_name": "Python 3",
   "language": "python",
   "name": "python3"
  },
  "language_info": {
   "codemirror_mode": {
    "name": "ipython",
    "version": 3
   },
   "file_extension": ".py",
   "mimetype": "text/x-python",
   "name": "python",
   "nbconvert_exporter": "python",
   "pygments_lexer": "ipython3",
   "version": "3.7.6"
  }
 },
 "nbformat": 4,
 "nbformat_minor": 4
}
